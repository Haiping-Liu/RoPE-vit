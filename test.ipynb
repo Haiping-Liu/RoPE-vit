{
 "cells": [
  {
   "cell_type": "code",
   "execution_count": null,
   "metadata": {},
   "outputs": [],
   "source": [
    "import h5py\n",
    "\n",
    "file_path = \"/root/autodl-tmp/depth_train.h5\"\n",
    "with h5py.File(file_path, \"r\") as f:\n",
    "    depth = f[\"depth\"][0]\n",
    "    print(depth)"
   ]
  }
 ],
 "metadata": {
  "language_info": {
   "name": "python"
  }
 },
 "nbformat": 4,
 "nbformat_minor": 2
}
